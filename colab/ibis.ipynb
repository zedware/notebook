{
  "nbformat": 4,
  "nbformat_minor": 0,
  "metadata": {
    "colab": {
      "provenance": [],
      "authorship_tag": "ABX9TyNLxiXbWS8m16nOh60+lP7w",
      "include_colab_link": true
    },
    "kernelspec": {
      "name": "python3",
      "display_name": "Python 3"
    },
    "language_info": {
      "name": "python"
    }
  },
  "cells": [
    {
      "cell_type": "markdown",
      "metadata": {
        "id": "view-in-github",
        "colab_type": "text"
      },
      "source": [
        "<a href=\"https://colab.research.google.com/github/zedware/notebook/blob/master/colab/ibis.ipynb\" target=\"_parent\"><img src=\"https://colab.research.google.com/assets/colab-badge.svg\" alt=\"Open In Colab\"/></a>"
      ]
    },
    {
      "cell_type": "code",
      "execution_count": null,
      "metadata": {
        "id": "BzgH4i2o4Lmm"
      },
      "outputs": [],
      "source": [
        "!pip install ibis-framework\n",
        "!pip install pyarrow_hotfix"
      ]
    },
    {
      "cell_type": "code",
      "source": [
        "import ibis\n",
        "\n",
        "# Represent the row as a tuple\n",
        "row_data = (1, 'a')\n",
        "\n",
        "# Define the schema for the table (column names and types)\n",
        "schema = ibis.schema(names=['col1', 'col2'], types=['int64', 'string'])\n",
        "\n",
        "# Create a table from the literal tuple with the defined schema\n",
        "table = ibis.literal([row_data], type=schema).unnest()\n",
        "\n",
        "# Now 'table' is an Ibis table expression representing a table with one row:\n",
        "# col1 | col2\n",
        "# ---- | ----\n",
        "#    1 | a\n",
        "\n",
        "# You can then use this table in further Ibis expressions, for example:\n",
        "print(ibis.to_sql(table))"
      ],
      "metadata": {
        "id": "RayDHPYR4c-y"
      },
      "execution_count": null,
      "outputs": []
    },
    {
      "cell_type": "code",
      "source": [
        "import ibis\n",
        "\n",
        "# Represent the row as a tuple\n",
        "row_data = (1, 'a')\n",
        "\n",
        "# Define the schema for the table (column names and types)\n",
        "schema = ibis.schema(names=['col1', 'col2'], types=['int64', 'string'])\n",
        "\n",
        "# Create a table from the literal tuple with the defined schema\n",
        "# The original code was:\n",
        "# table = ibis.literal([row_data], type=schema).unnest()\n",
        "\n",
        "# Use ibis.memtable to create an in-memory table from Python data with a schema\n",
        "table = ibis.memtable([row_data], schema=schema)\n",
        "\n",
        "# Now 'table' is an Ibis table expression representing a table with one row:\n",
        "# col1 | col2\n",
        "# ---- | ----\n",
        "#    1 | a\n",
        "\n",
        "# You can then use this table in further Ibis expressions, for example:\n",
        "print(ibis.to_sql(table))\n",
        "\n",
        "cte = ibis.expr.operations.DummyTable(values={\"msg\": \"0\", \"s\": 110, \"e\": 120}).to_expr().alias(\"cte\")\n",
        "print(ibis.to_sql(cte))\n"
      ],
      "metadata": {
        "id": "Z2f2PjYZ4v60"
      },
      "execution_count": null,
      "outputs": []
    },
    {
      "cell_type": "code",
      "source": [
        "import ibis\n",
        "\n",
        "# table = ibis.expr.operations.DummyTable(values={\"msg\": \"0\", \"s\": 110, \"e\": 120}).to_expr()\n",
        "# print(ibis.to_sql(table))\n",
        "# print(\"\\n\")\n",
        "# cte = ibis.expr.operations.DummyTable(values={\"msg\": \"0\", \"s\": 110, \"e\": 120}).to_expr().alias(\"cte\")\n",
        "# print(ibis.to_sql(cte))\n",
        "\n",
        "# span = ibis.expr.operations.DummyTable(values={\"msg\": [\"0_msg\", \"1_msg\"], \"s\": [110, 120], \"e\": [1000, 2000]}).to_expr().alias(\"cte\")\n",
        "# print(ibis.to_sql(span))\n",
        "\n",
        "# span = ibis.expr.operations.DummyTable(values={\"msg\": \"0_msg\", \"s\": 1, \"e\": 10}, {\"msg\": \"0_msg\", \"s\": 1, \"e\": 10}).to_expr().alias(\"cte\")\n",
        "# print(ibis.to_sql(span))\n",
        "\n",
        "import ibis\n",
        "\n",
        "# Create a MULTIPLE-ROW table expression from constant values using DummyTable\n",
        "# The keys of the dictionary are column names: \"msg\", \"s\", \"e\"\n",
        "# The values of the dictionary are lists, where each list contains the data for that column.\n",
        "# The lists must have the same length to form rows correctly.\n",
        "multi_row_table = ibis.expr.operations.DummyTable(\n",
        "    values={\"msg\": [\"0\", \"1\", \"2\"], \"s\": [110, 200, 300], \"e\": [120, 210, 310]}\n",
        ").to_expr()\n",
        "\n",
        "# Each element at the same index across the lists forms a row:\n",
        "# Row 1: msg=\"0\", s=110, e=120\n",
        "# Row 2: msg=\"1\", s=200, e=210\n",
        "# Row 3: msg=\"2\", s=300, e=310\n",
        "\n",
        "# You can then work with this multi-row table expression\n",
        "print(\"SQL for multi-row table from constants:\")\n",
        "print(ibis.to_sql(multi_row_table))\n",
        "\n",
        "# Example of using the multi-row table in an Ibis expression:\n",
        "# Select specific columns\n",
        "selected_cols = multi_row_table.select(\"msg\", \"s\")\n",
        "print(\"\\nSQL for selecting columns from multi-row table:\")\n",
        "print(ibis.to_sql(selected_cols))\n",
        "\n",
        "# Filter rows where 's' is greater than 150\n",
        "filtered_rows = multi_row_table[multi_row_table.s > 150]\n",
        "print(\"\\nSQL for filtering multi-row table:\")\n",
        "print(ibis.to_sql(filtered_rows))"
      ],
      "metadata": {
        "id": "RNsmvzDk6OHR"
      },
      "execution_count": null,
      "outputs": []
    },
    {
      "cell_type": "code",
      "source": [],
      "metadata": {
        "id": "kYho1LCI6U_l"
      },
      "execution_count": null,
      "outputs": []
    },
    {
      "cell_type": "code",
      "source": [
        "!pip install pyarrow_hotfix"
      ],
      "metadata": {
        "id": "cKoWJ9484-v8"
      },
      "execution_count": null,
      "outputs": []
    },
    {
      "cell_type": "code",
      "source": [],
      "metadata": {
        "id": "Z2o5PCqJ5fed"
      },
      "execution_count": null,
      "outputs": []
    },
    {
      "cell_type": "markdown",
      "source": [],
      "metadata": {
        "id": "Huvf4Zc75gRR"
      }
    }
  ]
}